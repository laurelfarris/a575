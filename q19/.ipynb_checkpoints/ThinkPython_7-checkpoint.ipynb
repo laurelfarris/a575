{
 "cells": [
  {
   "cell_type": "markdown",
   "metadata": {},
   "source": [
    "###q19: Read Chapter 7 of Think Python and do exercises 1, 2, and 3\n"
   ]
  },
  {
   "cell_type": "markdown",
   "metadata": {},
   "source": [
    "####Exercise 1: \n",
    "Rewrite the function print_n from Section 5.8 using iteration instead of recursion."
   ]
  },
  {
   "cell_type": "code",
   "execution_count": 5,
   "metadata": {
    "collapsed": false
   },
   "outputs": [
    {
     "name": "stdout",
     "output_type": "stream",
     "text": [
      "hi\n",
      "hi\n",
      "hi\n",
      "hi\n",
      "hi\n",
      "hi\n",
      "hi\n"
     ]
    }
   ],
   "source": [
    "# Original function from Section 5.8:\n",
    "\n",
    "#def print_n(s, n):\n",
    "#    if n <= 0:\n",
    "#        return\n",
    "#    print s\n",
    "#    print_n(s, n-1)\n",
    "    \n",
    "# New function using iteration:\n",
    "\n",
    "def print_n(s,n):\n",
    "    while n > 0:\n",
    "        print s\n",
    "        n=n-1\n",
    "\n",
    "print_n('hi',7)"
   ]
  },
  {
   "cell_type": "markdown",
   "metadata": {},
   "source": [
    "####Exercise 2: \n",
    "Encapsulate this loop in a function called square_root that takes a as a parameter, chooses a reasonable value of x, and returns an estimate of the square root of a."
   ]
  },
  {
   "cell_type": "code",
   "execution_count": 1,
   "metadata": {
    "collapsed": false
   },
   "outputs": [
    {
     "data": {
      "text/plain": [
       "10.0"
      ]
     },
     "execution_count": 1,
     "metadata": {},
     "output_type": "execute_result"
    }
   ],
   "source": [
    "# 'This loop':\n",
    "#while True:\n",
    "#    print x\n",
    "#    y = (x + a/x) / 2\n",
    "#    if y == x:\n",
    "#        break\n",
    "#    x = y\n",
    "    \n",
    "\n",
    "# My loop... what is a 'reasonable' value of x?\n",
    "def square_root(a):\n",
    "    x = 3.0\n",
    "    a = float(a)\n",
    "    epsilon = 0.00000001\n",
    "    while True:\n",
    "        y = (x + a/x) / 2.\n",
    "        if abs(y-x) < epsilon:\n",
    "            break\n",
    "        x = y\n",
    "    return y\n",
    "\n",
    "square_root(100)\n"
   ]
  },
  {
   "cell_type": "markdown",
   "metadata": {},
   "source": [
    "####Exercise 3:\n",
    "To test the square root algorithm in this chapter, you could compare it with math.sqrt. Write a function named test_square_root that prints a table like this:\n",
    "\n",
    "\n",
    "\n"
   ]
  },
  {
   "cell_type": "markdown",
   "metadata": {},
   "source": [
    "1.0 1.0           1.0           0.0\n",
    "2.0 1.41421356237 1.41421356237 2.22044604925e-16\n",
    "3.0 1.73205080757 1.73205080757 0.0\n",
    "4.0 2.0           2.0           0.0\n",
    "5.0 2.2360679775  2.2360679775  0.0\n",
    "6.0 2.44948974278 2.44948974278 0.0\n",
    "7.0 2.64575131106 2.64575131106 0.0\n",
    "8.0 2.82842712475 2.82842712475 4.4408920985e-16\n",
    "9.0 3.0           3.0           0.0"
   ]
  },
  {
   "cell_type": "markdown",
   "metadata": {},
   "source": [
    "The first column is a number, 'a'; the second column is the square root of 'a' computed with the function from Section 7.5; the third column is the square root computed by math.sqrt; the fourth column is the absolute value of the difference between the two estimates."
   ]
  },
  {
   "cell_type": "code",
   "execution_count": 6,
   "metadata": {
    "collapsed": false
   },
   "outputs": [
    {
     "name": "stdout",
     "output_type": "stream",
     "text": [
      "1.0 1.0 1.0 0.0\n",
      "2.0 1.41421356237 1.41421356237 2.22044604925e-16\n",
      "3.0 1.73205080757 1.73205080757 0.0\n",
      "4.0 2.0 2.0 0.0\n",
      "5.0 2.2360679775 2.2360679775 0.0\n",
      "6.0 2.44948974278 2.44948974278 0.0\n",
      "7.0 2.64575131106 2.64575131106 0.0\n",
      "8.0 2.82842712475 2.82842712475 4.4408920985e-16\n",
      "9.0 3.0 3.0 0.0\n"
     ]
    }
   ],
   "source": [
    "import math\n",
    "def test_square_root():\n",
    "    epsilon = 0.00000001\n",
    "    a = 1.0\n",
    "    x = 3.0\n",
    "    while a <= 9.0:\n",
    "        while True:\n",
    "            y = (x + a/x) / 2\n",
    "            if abs(y-x) < epsilon:\n",
    "                break\n",
    "            x = y\n",
    "        #print '{0:3f}{1:14f}{2:14f}{3:14f}'.format( a,y,math.sqrt(a),abs(math.sqrt(a)-y) )\n",
    "        print a,y,math.sqrt(a),abs(math.sqrt(a)-y)\n",
    "        a = a+1.0\n",
    "    return\n",
    "\n",
    "test_square_root()"
   ]
  },
  {
   "cell_type": "code",
   "execution_count": null,
   "metadata": {
    "collapsed": true
   },
   "outputs": [],
   "source": []
  }
 ],
 "metadata": {
  "kernelspec": {
   "display_name": "Python 2",
   "language": "python",
   "name": "python2"
  },
  "language_info": {
   "codemirror_mode": {
    "name": "ipython",
    "version": 2
   },
   "file_extension": ".py",
   "mimetype": "text/x-python",
   "name": "python",
   "nbconvert_exporter": "python",
   "pygments_lexer": "ipython2",
   "version": "2.7.10"
  }
 },
 "nbformat": 4,
 "nbformat_minor": 0
}

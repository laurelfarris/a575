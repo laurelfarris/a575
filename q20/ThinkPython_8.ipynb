{
 "cells": [
  {
   "cell_type": "markdown",
   "metadata": {},
   "source": [
    "###q20: Read Chapter 8 of Think Python and do exercises 1, 2, 3, 4, 5, and 9.\n",
    "\n"
   ]
  },
  {
   "cell_type": "markdown",
   "metadata": {},
   "source": [
    "####Exercise 1\n",
    "Write a function that takes a string as an argument and displays the letters backward, one per line."
   ]
  },
  {
   "cell_type": "code",
   "execution_count": 6,
   "metadata": {
    "collapsed": false
   },
   "outputs": [
    {
     "name": "stdout",
     "output_type": "stream",
     "text": [
      "w\n",
      "o\n",
      "e\n",
      "m\n"
     ]
    }
   ],
   "source": [
    "def backward(string):\n",
    "    for i in range(1,len(string)+1):  #lovely reminder that python's for loops are not inclusive\n",
    "        print string[-i]\n",
    "    return\n",
    "\n",
    "backward('meow')"
   ]
  },
  {
   "cell_type": "markdown",
   "metadata": {},
   "source": [
    "####Exercise 2\n",
    "Modify the ducky program to fix the misspelled names."
   ]
  },
  {
   "cell_type": "code",
   "execution_count": 12,
   "metadata": {
    "collapsed": false
   },
   "outputs": [
    {
     "name": "stdout",
     "output_type": "stream",
     "text": [
      "Jack\n",
      "Kack\n",
      "Lack\n",
      "Mack\n",
      "Nack\n",
      "Ouack\n",
      "Pack\n",
      "Quack\n"
     ]
    }
   ],
   "source": [
    "# Original program:\n",
    "prefixes = 'JKLMNOPQ'\n",
    "suffix = 'ack'\n",
    "\n",
    "#for letter in prefixes:\n",
    "#    print letter + suffix\n",
    "    \n",
    "# Modified program:\n",
    "for letter in prefixes:\n",
    "    if letter=='O' or letter=='Q':\n",
    "        letter = letter + 'u'\n",
    "    print letter + suffix"
   ]
  },
  {
   "cell_type": "markdown",
   "metadata": {},
   "source": [
    "####Exercise 3\n",
    "Given that fruit is a string, what does fruit[:] mean?\n"
   ]
  },
  {
   "cell_type": "code",
   "execution_count": 16,
   "metadata": {
    "collapsed": false
   },
   "outputs": [
    {
     "name": "stdout",
     "output_type": "stream",
     "text": [
      "banana\n",
      "anana\n",
      "ana\n",
      "ban\n",
      "banana\n"
     ]
    }
   ],
   "source": [
    "fruit = 'banana'\n",
    "print fruit[:]\n",
    "print fruit[1:]\n",
    "print fruit[3:]\n",
    "print fruit[:3]\n",
    "print fruit[:len(fruit)]"
   ]
  },
  {
   "cell_type": "markdown",
   "metadata": {},
   "source": [
    "The number on either side of ':' represents the beginning/end of the range. No number means no limit, so [:n] accessing elements from the beginning to the nth element, and [n:] accesses elements from the nth element to the end. Thus, [:] accesses all the elements... and is probably not used."
   ]
  },
  {
   "cell_type": "markdown",
   "metadata": {},
   "source": [
    "####Exercise 4\n",
    "Modify 'find' so that it has a third parameter, the index in word where it should start looking.\n"
   ]
  },
  {
   "cell_type": "code",
   "execution_count": 24,
   "metadata": {
    "collapsed": false
   },
   "outputs": [
    {
     "data": {
      "text/plain": [
       "-1"
      ]
     },
     "execution_count": 24,
     "metadata": {},
     "output_type": "execute_result"
    }
   ],
   "source": [
    "# 'find':\n",
    "def find(word, letter):\n",
    "    index = 0\n",
    "    while index < len(word):\n",
    "        if word[index] == letter:\n",
    "            return index\n",
    "        index = index + 1\n",
    "    return -1\n",
    "\n",
    "find('meow','m')\n",
    "\n",
    "def find(word, letter, index):\n",
    "    while index < len(word):\n",
    "        if word[index] == letter:\n",
    "            return index\n",
    "        index = index + 1\n",
    "    return -1\n",
    "\n",
    "find('meow','o',3)\n"
   ]
  },
  {
   "cell_type": "markdown",
   "metadata": {},
   "source": [
    "####Exercise 5\n",
    "Encapsulate this code in a function named count, and generalize it so that it accepts the string and the letter as arguments."
   ]
  },
  {
   "cell_type": "code",
   "execution_count": 33,
   "metadata": {
    "collapsed": false
   },
   "outputs": [
    {
     "name": "stdout",
     "output_type": "stream",
     "text": [
      "2\n"
     ]
    }
   ],
   "source": [
    "# 'This code':\n",
    "#word = 'banana'\n",
    "#count = 0\n",
    "#for letter in word:\n",
    "#    if letter == 'a':\n",
    "#        count = count + 1\n",
    "#print count\n",
    "\n",
    "# Function, generalized\n",
    "def count(myWord, myLetter):\n",
    "    count = 0\n",
    "    for letter in myWord:\n",
    "        if letter == myLetter:\n",
    "            count = count + 1\n",
    "    print count\n",
    "    \n",
    "count('kitty', 't')"
   ]
  },
  {
   "cell_type": "markdown",
   "metadata": {},
   "source": [
    "####Exercise 9\n",
    "Starting with this diagram, execute the program on paper, changing the values of i and j during each iteration. Find and fix the second error in this function."
   ]
  },
  {
   "cell_type": "code",
   "execution_count": 36,
   "metadata": {
    "collapsed": false
   },
   "outputs": [
    {
     "name": "stdout",
     "output_type": "stream",
     "text": [
      "0 3\n",
      "1 2\n",
      "2 1\n",
      "3 0\n"
     ]
    },
    {
     "data": {
      "text/plain": [
       "True"
      ]
     },
     "execution_count": 36,
     "metadata": {},
     "output_type": "execute_result"
    }
   ],
   "source": [
    "# 'This function' compares two words and returns True if one of the words is the reverse of the other:\n",
    "def is_reverse(word1, word2):\n",
    "    if len(word1) != len(word2):\n",
    "        return False\n",
    "    \n",
    "    i = 0\n",
    "    j = len(word2)-1 # Error 1: changed from 'j=len(word2)'\n",
    "\n",
    "    while j >= 0: # Error 2: changed from 'while j > 0'\n",
    "        print i,j # for debugging and finding the first error.\n",
    "        if word1[i] != word2[j]:\n",
    "            return False\n",
    "        i = i+1\n",
    "        j = j-1\n",
    "\n",
    "    return True\n",
    "\n",
    "#... but has two errors.\n",
    "\n",
    "is_reverse('stop','pots')\n"
   ]
  }
 ],
 "metadata": {
  "kernelspec": {
   "display_name": "Python 2",
   "language": "python",
   "name": "python2"
  },
  "language_info": {
   "codemirror_mode": {
    "name": "ipython",
    "version": 2
   },
   "file_extension": ".py",
   "mimetype": "text/x-python",
   "name": "python",
   "nbconvert_exporter": "python",
   "pygments_lexer": "ipython2",
   "version": "2.7.10"
  }
 },
 "nbformat": 4,
 "nbformat_minor": 0
}

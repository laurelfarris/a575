{
 "cells": [
  {
   "cell_type": "markdown",
   "metadata": {},
   "source": [
    "First set up generic Python/iPython for inline plots and common packages"
   ]
  },
  {
   "cell_type": "code",
   "execution_count": 1,
   "metadata": {
    "collapsed": false
   },
   "outputs": [],
   "source": [
    "%matplotlib inline\n",
    "import numpy as np\n",
    "import matplotlib.pyplot as plt\n",
    "import scipy"
   ]
  },
  {
   "cell_type": "markdown",
   "metadata": {},
   "source": [
    "OK, let's do a nonlinear fit. First we will make some simulated data to fit. To start, define a function that generates a Gaussian, given specifed input parameters (how many?). It will be easier to generalize your fitting routine for any function if you consider the parameters as an input array. You can also write it so that the function will return a vector (array) of values if you specify an array of input values.\n",
    "\n",
    "'pars' are parameters; there are three parameters for a Gaussian: sigma, mean, and amplitude (the quantity in front of the exponent)."
   ]
  },
  {
   "cell_type": "code",
   "execution_count": 3,
   "metadata": {
    "collapsed": false
   },
   "outputs": [],
   "source": [
    "def gaussfunc(x, pars) :\n",
    "    ''' A simple Gaussian function '''\n",
    "    return  pars[0] * np.exp(-0.5*(x-pars[1])**2/pars[2]**2)\n"
   ]
  },
  {
   "cell_type": "markdown",
   "metadata": {},
   "source": [
    "How might you test your routine? Choose some sample values. Do both single values and array input."
   ]
  },
  {
   "cell_type": "code",
   "execution_count": 11,
   "metadata": {
    "collapsed": false
   },
   "outputs": [
    {
     "name": "stdout",
     "output_type": "stream",
     "text": [
      "1.0\n"
     ]
    }
   ],
   "source": [
    "print gaussfunc(0.,np.array([1.,0.,1.]))"
   ]
  },
  {
   "cell_type": "markdown",
   "metadata": {},
   "source": [
    "OK, let's generate some fake data, with n pts and uncertainties of sigma on each point."
   ]
  },
  {
   "cell_type": "code",
   "execution_count": 7,
   "metadata": {
    "collapsed": false
   },
   "outputs": [
    {
     "name": "stderr",
     "output_type": "stream",
     "text": [
      "/Users/laurel/anaconda/lib/python2.7/site-packages/ipykernel/__main__.py:7: DeprecationWarning: using a non-integer number instead of an integer will result in an error in the future\n",
      "/Users/laurel/anaconda/lib/python2.7/site-packages/ipykernel/__main__.py:10: DeprecationWarning: using a non-integer number instead of an integer will result in an error in the future\n"
     ]
    },
    {
     "data": {
      "text/plain": [
       "<Container object of 3 artists>"
      ]
     },
     "execution_count": 7,
     "metadata": {},
     "output_type": "execute_result"
    }
   ],
   "source": [
    "# get n samples with homoschedastic errors\n",
    "n=100.\n",
    "pars=[0.5,0.5,0.5]\n",
    "sig=0.01 # Determines size of error bars\n",
    "\n",
    "# generate data arrays\n",
    "sigma=sig+np.zeros(n)\n",
    "x=np.arange(n)*0.1-5\n",
    "# get the y values with gaussian errors\n",
    "y=gaussfunc(x,pars)+np.random.normal(0.,sigma,n)\n",
    "\n",
    "# plot it up\n",
    "plt.clf()\n",
    "plt.errorbar(x,y,yerr=sigma,marker='.',linestyle='none')"
   ]
  },
  {
   "cell_type": "markdown",
   "metadata": {},
   "source": [
    "OK, now we have to try to derive the parameters from the data set. Review how this is done: iteratively using matrix equations presented in class and in Numerical recipes. To do this, we will need to calculate the derivatives of the function with respect to each parameter. \n",
    "\n",
    "Write these down on paper.\n",
    "\n",
    "For a general implemention, it will be most convenient, as above, to return the derivatives in an array. Note that you can make the routine work for input vectors of data to return vectors of derivatives."
   ]
  },
  {
   "cell_type": "code",
   "execution_count": 9,
   "metadata": {
    "collapsed": false
   },
   "outputs": [
    {
     "name": "stdout",
     "output_type": "stream",
     "text": [
      "[ 0.8824969  -0.26474907  0.13237454]\n"
     ]
    }
   ],
   "source": [
    "def deriv(x,pars) :\n",
    "    f = gaussfunc(x,pars)\n",
    "    dyda = f / pars[0]\n",
    "    dydb = f * (x-pars[1])/pars[2]**2\n",
    "    dydc = f * (x-pars[1])**2/pars[2]**3\n",
    "    return np.array([dyda,dydb,dydc])\n",
    "\n",
    "print deriv(0.5,pars)"
   ]
  },
  {
   "cell_type": "markdown",
   "metadata": {},
   "source": [
    "OK, now we want to do the fit. We will start with some guess of parameters (look at your plot to choose a good set).\n",
    "\n",
    "Then we will iterate, calculating a correction at each iteration."
   ]
  },
  {
   "cell_type": "code",
   "execution_count": 14,
   "metadata": {
    "collapsed": false
   },
   "outputs": [
    {
     "name": "stdout",
     "output_type": "stream",
     "text": [
      "Iter 0\n",
      "[0.6, 1.0, 1.0]\n",
      "Iter 1\n",
      "[ 0.32688004  0.62521673  0.86030567]\n",
      "Iter 2\n",
      "[ 0.43637704  0.43540294  0.40933475]\n",
      "Iter 3\n",
      "[ 0.48998201  0.50324731  0.51082151]\n",
      "Iter 4\n",
      "[ 0.50286905  0.50321024  0.49220791]\n",
      "Iter 5\n",
      "[ 0.50282841  0.50304511  0.49323682]\n",
      "Iter 6\n",
      "[ 0.50284646  0.50305357  0.4932031 ]\n",
      "Iter 7\n",
      "[ 0.50284588  0.50305328  0.49320423]\n",
      "Iter 8\n",
      "[ 0.5028459   0.50305329  0.49320419]\n",
      "Iter 9\n",
      "[ 0.5028459   0.50305329  0.49320419]\n"
     ]
    }
   ],
   "source": [
    "#initial guess (motivated by data; height is ~0.6, etc.)\n",
    "pars=[0.6,1.,1.]\n",
    "\n",
    "# set up arrays\n",
    "npar=3\n",
    "alpha=np.zeros([npar,npar]) # alpha_jk\n",
    "beta=np.zeros(npar) # beta_j\n",
    "\n",
    "plt.errorbar(x,y,yerr=sigma,marker='.',linestyle='none')\n",
    "\n",
    "# iterate. Really, we should iterate until convergence rather than a fixed number of iterations\n",
    "for iter in range(10) :\n",
    "    print 'Iter', iter\n",
    "    print pars\n",
    "    plt.plot(x,gaussfunc(x,pars))\n",
    "    \n",
    "    # loop over parameters, sums over data points are done with np.sum since x, y are vectors \n",
    "    for k in np.arange(npar) :\n",
    "        # calculate beta array\n",
    "        beta[k] = np.sum((y-gaussfunc(x,pars))*deriv(x,pars)[k]/sigma**2)\n",
    "        # calculate alpha array\n",
    "        for j in np.arange(npar) :\n",
    "            alpha[k,j] = np.sum((deriv(x,pars)[k])*deriv(x,pars)[j]/sigma**2)\n",
    "    # invert the matrix\n",
    "    c=np.linalg.inv(alpha)\n",
    "    # calculate correction vector and apply it to current parameters\n",
    "    deltapars = np.dot(c,beta)\n",
    "    pars += deltapars\n",
    "                         "
   ]
  },
  {
   "cell_type": "markdown",
   "metadata": {},
   "source": [
    "Modify the code to implement a convergence criterion, which can either be a maximum percent change in chi^2, or a maximum percent change in any of the parameters."
   ]
  },
  {
   "cell_type": "markdown",
   "metadata": {},
   "source": [
    "What are the calculated uncertainties on the parameters? (p. 54, right before section 8.2)"
   ]
  },
  {
   "cell_type": "code",
   "execution_count": 21,
   "metadata": {
    "collapsed": false
   },
   "outputs": [
    {
     "name": "stdout",
     "output_type": "stream",
     "text": [
      "0.502845902068\n",
      "0.503053292589\n",
      "0.493204192356\n"
     ]
    }
   ],
   "source": [
    "for i in range(0,npar):\n",
    "    print pars[i],"
   ]
  },
  {
   "cell_type": "markdown",
   "metadata": {},
   "source": [
    "OK, now let's implement it using the canned astropy routines"
   ]
  },
  {
   "cell_type": "code",
   "execution_count": 23,
   "metadata": {
    "collapsed": false
   },
   "outputs": [
    {
     "ename": "SyntaxError",
     "evalue": "invalid syntax (<ipython-input-23-843639220aa0>, line 3)",
     "output_type": "error",
     "traceback": [
      "\u001b[0;36m  File \u001b[0;32m\"<ipython-input-23-843639220aa0>\"\u001b[0;36m, line \u001b[0;32m3\u001b[0m\n\u001b[0;31m    p_init = models.Gaussian1D(amplitude=...,mean=...,stddev=...)\u001b[0m\n\u001b[0m                                         ^\u001b[0m\n\u001b[0;31mSyntaxError\u001b[0m\u001b[0;31m:\u001b[0m invalid syntax\n"
     ]
    }
   ],
   "source": [
    "from astropy.modeling import models, fitting\n",
    "fit_p = fitting.LevMarLSQFitter()\n",
    "p_init = models.Gaussian1D(amplitude=...,mean=...,stddev=...)\n",
    "pfit = fit_p(p_init,x,y)\n",
    "print pfit\n",
    "print pfit.parameters\n",
    "# plot it up\n",
    "plt.errorbar(x,y,yerr=sigma,marker='.',linestyle='none')\n",
    "# pfit(x) evaluates the fit at locations x\n",
    "plt.plot(x,pfit(x))\n",
    "plt.draw()"
   ]
  },
  {
   "cell_type": "markdown",
   "metadata": {},
   "source": [
    "See what happens when you try different starting guesses. How about different data parameters, e.g. sigma?"
   ]
  },
  {
   "cell_type": "markdown",
   "metadata": {},
   "source": [
    "OK, let's do a Monte Carlo to get distribution of uncertainties"
   ]
  },
  {
   "cell_type": "code",
   "execution_count": 37,
   "metadata": {
    "collapsed": false
   },
   "outputs": [
    {
     "name": "stdout",
     "output_type": "stream",
     "text": [
      "<type 'numpy.ndarray'>\n",
      "<type 'numpy.ndarray'>\n"
     ]
    },
    {
     "data": {
      "image/png": "[encoded data removed]",
      "text/plain": [
       "<matplotlib.figure.Figure at 0x107faaa90>"
      ]
     },
     "metadata": {},
     "output_type": "display_data"
    }
   ],
   "source": [
    "# let's build up arrays of differences between output and input parameters, and array of output parameters for multiple\n",
    "# simulated data sets\n",
    "\n",
    "diff=[]\n",
    "out=[]\n",
    "for sim in range(50) :\n",
    "    test=gaussfunc(x,pfit.parameters)+np.random.normal(0.,sigma,n)\n",
    "    simfit = fit_p(p_init,x,test)\n",
    "    diff.append(simfit.parameters-pfit.parameters)\n",
    "    out.append(simfit.parameters)\n",
    " \n",
    "# Turn them into arrays for plotting\n",
    "diff=np.array(diff)\n",
    "out=np.array(out)\n",
    "\n",
    "plt.scatter(diff[:,0],diff[:,2])\n",
    "plt.xlim([-15,15])\n",
    "plt.ylim([-1.5,1.5])\n",
    "print type(out)\n",
    "print type(diff)\n"
   ]
  },
  {
   "cell_type": "code",
   "execution_count": 65,
   "metadata": {
    "collapsed": false
   },
   "outputs": [
    {
     "data": {
      "text/plain": [
       "<matplotlib.collections.PathCollection at 0x10ac39810>"
      ]
     },
     "execution_count": 65,
     "metadata": {},
     "output_type": "execute_result"
    },
    {
     "data": {
      "image/png": "[encoded data removed]",
      "text/plain": [
       "<matplotlib.figure.Figure at 0x1098cff50>"
      ]
     },
     "metadata": {},
     "output_type": "display_data"
    }
   ],
   "source": [
    "plt.scatter(out[:,0],out[:,2])"
   ]
  },
  {
   "cell_type": "code",
   "execution_count": null,
   "metadata": {
    "collapsed": true
   },
   "outputs": [],
   "source": []
  },
  {
   "cell_type": "markdown",
   "metadata": {},
   "source": [
    "OK now let's do a bootstrap resampling from original sample"
   ]
  },
  {
   "cell_type": "code",
   "execution_count": 66,
   "metadata": {
    "collapsed": false
   },
   "outputs": [
    {
     "data": {
      "text/plain": [
       "(-2.5, 2.5)"
      ]
     },
     "execution_count": 66,
     "metadata": {},
     "output_type": "execute_result"
    },
    {
     "data": {
      "image/png": "[encoded data removed]",
      "text/plain": [
       "<matplotlib.figure.Figure at 0x10ac39890>"
      ]
     },
     "metadata": {},
     "output_type": "display_data"
    }
   ],
   "source": [
    "diff=[]\n",
    "for sim in range(500) :\n",
    "    resample_i = np.floor(np.random.rand(n)*len(x)).astype(int)\n",
    "    x_resample = x[resample_i]\n",
    "    y_resample = y[resample_i]\n",
    "    simfit = fit_p(p_init,x_resample,y_resample)\n",
    "    diff.append(simfit.parameters-pfit.parameters)\n",
    " \n",
    "diff=np.array(diff)\n",
    "diff.shape\n",
    "\n",
    "plt.subplot(211)\n",
    "plt.scatter(diff[:,0],diff[:,2])\n",
    "plt.xlim([-15,15])\n",
    "plt.ylim([-2.5,2.5])\n",
    "\n",
    "\n"
   ]
  },
  {
   "cell_type": "code",
   "execution_count": 67,
   "metadata": {
    "collapsed": false
   },
   "outputs": [
    {
     "data": {
      "text/plain": [
       "<matplotlib.image.AxesImage at 0x10ab49d90>"
      ]
     },
     "execution_count": 67,
     "metadata": {},
     "output_type": "execute_result"
    },
    {
     "data": {
      "image/png": "[encoded data removed]",
      "text/plain": [
       "<matplotlib.figure.Figure at 0x10ab49b90>"
      ]
     },
     "metadata": {},
     "output_type": "display_data"
    }
   ],
   "source": [
    "#histogram definition\n",
    "xmin=-10\n",
    "xmax=10\n",
    "ymin=-1.5\n",
    "ymax=1.5\n",
    "xyrange = [[ymin,ymax],[xmin,xmax]] # data range\n",
    "bins = [50,50] # number of bins\n",
    "\n",
    "plt.xlim([xmin,xmax])\n",
    "plt.ylim([ymin,ymax])\n",
    "\n",
    "# histogram the data\n",
    "plt.subplot(111)\n",
    "hh, locx, locy = scipy.histogram2d(diff[:,2], diff[:,0], range=xyrange, bins=bins)\n",
    "plt.imshow(hh,interpolation='none',extent=(xmin,xmax,ymin,ymax),origin='lower',aspect='auto')\n"
   ]
  },
  {
   "cell_type": "markdown",
   "metadata": {},
   "source": [
    "OK, here's an attempt at a downhill simplex (Nelder-Mead) solution, where we will be minimizing chi^2"
   ]
  },
  {
   "cell_type": "code",
   "execution_count": 128,
   "metadata": {
    "collapsed": false
   },
   "outputs": [
    {
     "name": "stdout",
     "output_type": "stream",
     "text": [
      "Optimization terminated successfully.\n",
      "         Current function value: 95.103710\n",
      "         Iterations: 128\n",
      "         Function evaluations: 239\n",
      "[ 50.72367821  33.15385721   3.90050849]\n"
     ]
    }
   ],
   "source": [
    "def chifunc(a,x,y,sigma) :\n",
    "    ''' Chi^2 simple Gaussian function '''\n",
    "    f=np.sum((y - (a[0] * np.exp(-0.5 * (x-a[1])**2/a[2]**2)))**2 / sigma**2 ) \n",
    "    return f\n",
    "    \n",
    "from scipy import optimize\n",
    "pars = optimize.fmin(chifunc,x0=[60.,30.,10.],args=(x,y,sigma),retall=False,xtol=1.e-7)\n",
    "\n",
    "print pars\n",
    "\n",
    "#for i in pars[1] :\n",
    "#    print i\n",
    "\n",
    "\n"
   ]
  },
  {
   "cell_type": "code",
   "execution_count": null,
   "metadata": {
    "collapsed": true
   },
   "outputs": [],
   "source": []
  }
 ],
 "metadata": {
  "kernelspec": {
   "display_name": "Python 2",
   "language": "python",
   "name": "python2"
  },
  "language_info": {
   "codemirror_mode": {
    "name": "ipython",
    "version": 2
   },
   "file_extension": ".py",
   "mimetype": "text/x-python",
   "name": "python",
   "nbconvert_exporter": "python",
   "pygments_lexer": "ipython2",
   "version": "2.7.10"
  }
 },
 "nbformat": 4,
 "nbformat_minor": 0
}

{
 "cells": [
  {
   "cell_type": "markdown",
   "metadata": {},
   "source": [
    "###Chapter 6"
   ]
  },
  {
   "cell_type": "markdown",
   "metadata": {},
   "source": [
    "####Exercise 1\n",
    "Write a compare function that returns 1 if x > y, 0 if x == y, and -1 if x < y."
   ]
  },
  {
   "cell_type": "code",
   "execution_count": 4,
   "metadata": {
    "collapsed": false
   },
   "outputs": [
    {
     "data": {
      "text/plain": [
       "1"
      ]
     },
     "execution_count": 4,
     "metadata": {},
     "output_type": "execute_result"
    }
   ],
   "source": [
    "import math\n",
    "def compare(x,y):\n",
    "    if x > y:\n",
    "        return 1\n",
    "    if x==y:\n",
    "        return 0\n",
    "    if x < y:\n",
    "        return -1\n",
    "    \n",
    "compare(2.0,-2)"
   ]
  },
  {
   "cell_type": "markdown",
   "metadata": {},
   "source": [
    "####Exercise 2\n",
    "(End of 6.2) Use incremental development to write a function called hypotenuse that returns the length of the hypotenuse of a right triangle given the lengths of the two legs as arguments. Record each stage of the development process as you go."
   ]
  },
  {
   "cell_type": "code",
   "execution_count": 6,
   "metadata": {
    "collapsed": false
   },
   "outputs": [
    {
     "name": "stdout",
     "output_type": "stream",
     "text": [
      "0\n"
     ]
    }
   ],
   "source": [
    "def hypotenuse():\n",
    "    return 0\n",
    "\n",
    "returnValue=hypotenuse()\n",
    "print returnValue"
   ]
  },
  {
   "cell_type": "code",
   "execution_count": 10,
   "metadata": {
    "collapsed": false
   },
   "outputs": [
    {
     "name": "stdout",
     "output_type": "stream",
     "text": [
      "1\n",
      "2\n"
     ]
    }
   ],
   "source": [
    "def hypotenuse(s1,s2):\n",
    "    return s1\n",
    "\n",
    "returnValue=hypotenuse(1,2)\n",
    "print returnValue\n",
    "returnValue=hypotenuse(2,1)\n",
    "print returnValue"
   ]
  },
  {
   "cell_type": "code",
   "execution_count": 12,
   "metadata": {
    "collapsed": false
   },
   "outputs": [
    {
     "name": "stdout",
     "output_type": "stream",
     "text": [
      "5.0\n",
      "13.0\n"
     ]
    }
   ],
   "source": [
    "def hypotenuse(s1,s2):\n",
    "    hyp = math.sqrt(s1**2 + s2**2)\n",
    "    return hyp\n",
    "    \n",
    "returnValue=hypotenuse(3,4)\n",
    "print returnValue\n",
    "returnValue=hypotenuse(5,12)\n",
    "print returnValue"
   ]
  },
  {
   "cell_type": "markdown",
   "metadata": {},
   "source": [
    "####Exercise 7\n",
    "A number, a, is a power of b if it is divisible by b and a/b is a power of b. Write a function called is_power that takes parameters a and b and returns True if a is a power of b. Note: you will have to think about the base case."
   ]
  },
  {
   "cell_type": "code",
   "execution_count": null,
   "metadata": {
    "collapsed": true
   },
   "outputs": [],
   "source": [
    "def is_power(a,b):"
   ]
  },
  {
   "cell_type": "markdown",
   "metadata": {},
   "source": [
    "####Exercise 8\n",
    "The greatest common divisor (GCD) of a and b is the largest number that divides both of them with no remainder.\n",
    "One way to find the GCD of two numbers is based on the observation that if r is the remainder when a is divided by b, then gcd(a, b) = gcd(b, r). As a base case, we can use gcd(a, 0) = a.\n",
    "\n",
    "Write a function called gcd that takes parameters a and b and returns their greatest common divisor."
   ]
  },
  {
   "cell_type": "code",
   "execution_count": 13,
   "metadata": {
    "collapsed": false
   },
   "outputs": [
    {
     "name": "stdout",
     "output_type": "stream",
     "text": [
      "1.33333333333\n"
     ]
    }
   ],
   "source": [
    "def gcd(a,b):\n",
    "    r = a%b\n",
    "    r2 = b%r\n",
    "    divisor = b/r\n",
    "    return divisor\n",
    "    \n",
    "\n",
    "    \n",
    "x = 11.\n",
    "y = 4.\n",
    "z = gcd(x,y)\n",
    "print z"
   ]
  },
  {
   "cell_type": "code",
   "execution_count": null,
   "metadata": {
    "collapsed": true
   },
   "outputs": [],
   "source": []
  }
 ],
 "metadata": {
  "kernelspec": {
   "display_name": "Python 2",
   "language": "python",
   "name": "python2"
  },
  "language_info": {
   "codemirror_mode": {
    "name": "ipython",
    "version": 2
   },
   "file_extension": ".py",
   "mimetype": "text/x-python",
   "name": "python",
   "nbconvert_exporter": "python",
   "pygments_lexer": "ipython2",
   "version": "2.7.10"
  }
 },
 "nbformat": 4,
 "nbformat_minor": 0
}

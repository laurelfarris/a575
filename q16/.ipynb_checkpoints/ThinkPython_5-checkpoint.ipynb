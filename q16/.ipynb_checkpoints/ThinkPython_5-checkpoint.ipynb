{
 "cells": [
  {
   "cell_type": "markdown",
   "metadata": {},
   "source": [
    "## Ch. 5  \"Conditionals and Recursion\" Homework"
   ]
  },
  {
   "cell_type": "markdown",
   "metadata": {},
   "source": [
    "Read Chapter 5 of Think Python and do either exercise 3 or exercise 4, and the exercises 5 and 6. "
   ]
  },
  {
   "cell_type": "markdown",
   "metadata": {},
   "source": [
    "####3."
   ]
  },
  {
   "cell_type": "markdown",
   "metadata": {},
   "source": [
    "Fermat’s Last Theorem says that there are no positive integers a, b, and c such that\n",
    "an + bn = cn \n",
    "\n",
    "for any values of n greater than 2.\n",
    "\n",
    "    Write a function named check_fermat that takes four parameters—a, b, c and n—and that checks to see if Fermat’s theorem holds. If n is greater than 2 and it turns out to be true that\n",
    "    an + bn = cn \n",
    "\n",
    "    the program should print, “Holy smokes, Fermat was wrong!” Otherwise the program should print, “No, that doesn’t work.”\n",
    "    Write a function that prompts the user to input values for a, b, c and n, converts them to integers, and uses check_fermat to check whether they violate Fermat’s theorem.\n",
    "    \n",
    "Note: n's here are exponents."
   ]
  },
  {
   "cell_type": "code",
   "execution_count": 5,
   "metadata": {
    "collapsed": false
   },
   "outputs": [],
   "source": [
    "def check_fermat(a,b,c,n):\n",
    "    if n == 2 and a**n + b**n != c**n:\n",
    "        print \"Holy smokes, Fermat was wrong!\"\n",
    "    else:\n",
    "        print \"No, that doesn't work.\"\n",
    "        \n",
    "#check_fermat(2,3,4,5)\n",
    "\n",
    "#prompt = 'Please enter three numbers, separated by a comma.'\n",
    "def fun_with_numbers():\n",
    "    prompt = 'Please enter a number.'\n",
    "    a = int(raw_input(prompt))\n",
    "    prompt = 'Please enter a second number.'\n",
    "    b = int(raw_input(prompt))\n",
    "    prompt = 'Please enter a third number.'\n",
    "    c = int(raw_input(prompt))\n",
    "    prompt = 'Please enter a fourth number.'\n",
    "    n = int(raw_input(prompt))\n",
    "    check_fermat(a,b,c,n)\n"
   ]
  },
  {
   "cell_type": "markdown",
   "metadata": {},
   "source": [
    "####4."
   ]
  },
  {
   "cell_type": "markdown",
   "metadata": {},
   "source": [
    "If you are given three sticks, you may or may not be able to arrange them in a triangle. For example, if one of the sticks is 12 inches long and the other two are one inch long, it is clear that you will not be able to get the short sticks to meet in the middle. For any three lengths, there is a simple test to see if it is possible to form a triangle:\n",
    "\n",
    "    If any of the three lengths is greater than the sum of the other two, then you cannot form a triangle. Otherwise, you can. (If the sum of two lengths equals the third, they form what is called a “degenerate” triangle.) \n",
    "\n",
    "    Write a function named is_triangle that takes three integers as arguments, and that prints either “Yes” or “No,” depending on whether you can or cannot form a triangle from sticks with the given lengths.\n",
    "    Write a function that prompts the user to input three stick lengths, converts them to integers, and uses is_triangle to check whether sticks with the given lengths can form a triangle."
   ]
  },
  {
   "cell_type": "markdown",
   "metadata": {},
   "source": [
    "####5."
   ]
  },
  {
   "cell_type": "markdown",
   "metadata": {},
   "source": [
    "Read the following function and see if you can figure out what it does. Then run it (see the examples in Chapter 4)."
   ]
  },
  {
   "cell_type": "code",
   "execution_count": 7,
   "metadata": {
    "collapsed": true
   },
   "outputs": [],
   "source": [
    "def draw(t, length, n):\n",
    "    if n == 0:\n",
    "        return\n",
    "    angle = 50\n",
    "    fd(t, length*n)\n",
    "    lt(t, angle)\n",
    "    draw(t, length, n-1)\n",
    "    rt(t, 2*angle)\n",
    "    draw(t, length, n-1)\n",
    "    lt(t, angle)\n",
    "    bk(t, length*n)"
   ]
  },
  {
   "cell_type": "markdown",
   "metadata": {},
   "source": [
    "####6."
   ]
  },
  {
   "cell_type": "markdown",
   "metadata": {},
   "source": [
    "The Koch curve is a fractal that looks something like Figure 5.2. To draw a Koch curve with length x, all you have to do is\n",
    "\n",
    "    Draw a Koch curve with length x/3.\n",
    "    Turn left 60 degrees.\n",
    "    Draw a Koch curve with length x/3.\n",
    "    Turn right 120 degrees.\n",
    "    Draw a Koch curve with length x/3.\n",
    "    Turn left 60 degrees.\n",
    "    Draw a Koch curve with length x/3.\n",
    "\n",
    "The exception is if x is less than 3: in that case, you can just draw a straight line with length x.\n",
    "\n",
    "    Write a function called koch that takes a turtle and a length as parameters, and that uses the turtle to draw a Koch curve with the given length.\n",
    "    Write a function called snowflake that draws three Koch curves to make the outline of a snowflake.\n",
    "\n",
    "    Solution: http://thinkpython.com/code/koch.py.\n",
    "    The Koch curve can be generalized in several ways. See http://en.wikipedia.org/wiki/Koch_snowflake for examples and implement your favorite."
   ]
  },
  {
   "cell_type": "code",
   "execution_count": null,
   "metadata": {
    "collapsed": true
   },
   "outputs": [],
   "source": []
  }
 ],
 "metadata": {
  "kernelspec": {
   "display_name": "Python 2",
   "language": "python",
   "name": "python2"
  },
  "language_info": {
   "codemirror_mode": {
    "name": "ipython",
    "version": 2
   },
   "file_extension": ".py",
   "mimetype": "text/x-python",
   "name": "python",
   "nbconvert_exporter": "python",
   "pygments_lexer": "ipython2",
   "version": "2.7.10"
  }
 },
 "nbformat": 4,
 "nbformat_minor": 0
}

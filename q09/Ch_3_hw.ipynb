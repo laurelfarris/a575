{
 "cells": [
  {
   "cell_type": "markdown",
   "metadata": {},
   "source": [
    "###Exercise 3"
   ]
  },
  {
   "cell_type": "code",
   "execution_count": 14,
   "metadata": {
    "collapsed": false
   },
   "outputs": [
    {
     "name": "stdout",
     "output_type": "stream",
     "text": [
      "                                                           double bleh\n",
      "The length of this result is:  70\n"
     ]
    }
   ],
   "source": [
    "def right_justify(word):\n",
    "    delimiter = ' '\n",
    "    num_blanks = 70 - len(word)\n",
    "    result = (delimiter*num_blanks) + word\n",
    "    print result\n",
    "    print \"The length of this result is: \", len(result)\n",
    "    \n",
    "right_justify('double bleh')"
   ]
  },
  {
   "cell_type": "markdown",
   "metadata": {},
   "source": [
    "-----\n",
    "###Exercise 4"
   ]
  },
  {
   "cell_type": "markdown",
   "metadata": {},
   "source": [
    "####1."
   ]
  },
  {
   "cell_type": "code",
   "execution_count": 9,
   "metadata": {
    "collapsed": false
   },
   "outputs": [
    {
     "name": "stdout",
     "output_type": "stream",
     "text": [
      "spam\n",
      "spam\n"
     ]
    }
   ],
   "source": [
    "def do_twice(f):\n",
    "    f()\n",
    "    f()\n",
    "    \n",
    "def print_spam():\n",
    "    print 'spam'\n",
    "    \n",
    "do_twice(print_spam)\n",
    "    "
   ]
  },
  {
   "cell_type": "markdown",
   "metadata": {},
   "source": [
    "####2."
   ]
  },
  {
   "cell_type": "code",
   "execution_count": 1,
   "metadata": {
    "collapsed": false
   },
   "outputs": [
    {
     "name": "stdout",
     "output_type": "stream",
     "text": [
      "16\n",
      "16\n"
     ]
    }
   ],
   "source": [
    "def do_twice(myFunction,value):\n",
    "    myFunction(value)\n",
    "    myFunction(value)\n",
    "    \n",
    "def f(x):\n",
    "    print x**2\n",
    "    \n",
    "do_twice(f,4)"
   ]
  },
  {
   "cell_type": "markdown",
   "metadata": {
    "collapsed": true
   },
   "source": [
    "####3."
   ]
  },
  {
   "cell_type": "code",
   "execution_count": 14,
   "metadata": {
    "collapsed": false
   },
   "outputs": [
    {
     "name": "stdout",
     "output_type": "stream",
     "text": [
      "spam\n",
      "spam\n"
     ]
    }
   ],
   "source": [
    "def print_twice(someString):\n",
    "    print someString\n",
    "    print someString\n",
    "\n",
    "print_twice('spam')    \n"
   ]
  },
  {
   "cell_type": "markdown",
   "metadata": {},
   "source": [
    "####4."
   ]
  },
  {
   "cell_type": "code",
   "execution_count": 6,
   "metadata": {
    "collapsed": false
   },
   "outputs": [
    {
     "name": "stdout",
     "output_type": "stream",
     "text": [
      "spam\n",
      "spam\n",
      "spam\n",
      "spam\n"
     ]
    }
   ],
   "source": [
    "do_twice(print_twice,'spam')"
   ]
  },
  {
   "cell_type": "markdown",
   "metadata": {},
   "source": [
    "####5."
   ]
  },
  {
   "cell_type": "code",
   "execution_count": 10,
   "metadata": {
    "collapsed": false
   },
   "outputs": [
    {
     "name": "stdout",
     "output_type": "stream",
     "text": [
      "spam\n",
      "spam\n",
      "spam\n",
      "spam\n",
      "spam\n",
      "spam\n",
      "spam\n",
      "spam\n"
     ]
    }
   ],
   "source": [
    "def do_four(someFunction,value):\n",
    "    do_twice(someFunction,value)\n",
    "    do_twice(someFunction,value)\n",
    "\n",
    "do_four(print_twice,'spam')"
   ]
  },
  {
   "cell_type": "markdown",
   "metadata": {},
   "source": [
    "-------\n",
    "###Exercise 5"
   ]
  },
  {
   "cell_type": "code",
   "execution_count": 62,
   "metadata": {
    "collapsed": false
   },
   "outputs": [],
   "source": [
    "def print_once(myString,endChar):\n",
    "    print myString,endChar\n",
    "\n",
    "def print_twice(myString,endChar):\n",
    "    print myString,myString,endChar\n",
    "    \n",
    "def do_twice(myFunction,myString,endChar):\n",
    "    myFunction(myString,endChar)\n",
    "    myFunction(myString,endChar)\n",
    "    \n",
    "def do_four(myFunction,myString,endChar):\n",
    "    do_twice(myFunction,myString,endChar)\n",
    "    do_twice(myFunction,myString,endChar)\n",
    "\n",
    "corner = '+'\n",
    "side   = '/'\n",
    "top    = '+ - - - - + - - - -'\n",
    "middle = '/         /        '"
   ]
  },
  {
   "cell_type": "markdown",
   "metadata": {},
   "source": [
    "####1."
   ]
  },
  {
   "cell_type": "code",
   "execution_count": 63,
   "metadata": {
    "collapsed": false
   },
   "outputs": [
    {
     "name": "stdout",
     "output_type": "stream",
     "text": [
      "+ - - - - + - - - - +\n",
      "/         /         /\n",
      "/         /         /\n",
      "/         /         /\n",
      "/         /         /\n",
      "+ - - - - + - - - - +\n",
      "/         /         /\n",
      "/         /         /\n",
      "/         /         /\n",
      "/         /         /\n",
      "+ - - - - + - - - - +\n"
     ]
    }
   ],
   "source": [
    "def drawGrid():\n",
    "    print_once(top,corner)\n",
    "    do_four(print_once,middle,side)\n",
    "    print_once(top,corner)\n",
    "    do_four(print_once,middle,side)\n",
    "    print_once(top,corner)\n",
    "drawGrid()"
   ]
  },
  {
   "cell_type": "markdown",
   "metadata": {},
   "source": [
    "####2."
   ]
  },
  {
   "cell_type": "code",
   "execution_count": 64,
   "metadata": {
    "collapsed": false
   },
   "outputs": [
    {
     "name": "stdout",
     "output_type": "stream",
     "text": [
      "+ - - - - + - - - - + - - - - + - - - - +\n",
      "/         /         /         /         /\n",
      "/         /         /         /         /\n",
      "/         /         /         /         /\n",
      "/         /         /         /         /\n",
      "+ - - - - + - - - - + - - - - + - - - - +\n",
      "/         /         /         /         /\n",
      "/         /         /         /         /\n",
      "/         /         /         /         /\n",
      "/         /         /         /         /\n",
      "+ - - - - + - - - - + - - - - + - - - - +\n",
      "/         /         /         /         /\n",
      "/         /         /         /         /\n",
      "/         /         /         /         /\n",
      "/         /         /         /         /\n",
      "+ - - - - + - - - - + - - - - + - - - - +\n",
      "/         /         /         /         /\n",
      "/         /         /         /         /\n",
      "/         /         /         /         /\n",
      "/         /         /         /         /\n",
      "+ - - - - + - - - - + - - - - + - - - - +\n"
     ]
    }
   ],
   "source": [
    "def drawGrid2():\n",
    "    print_twice(top,corner)\n",
    "    do_four(print_twice,middle,side)\n",
    "    print_twice(top,corner)\n",
    "    do_four(print_twice,middle,side)\n",
    "    print_twice(top,corner)\n",
    "    do_four(print_twice,middle,side)\n",
    "    print_twice(top,corner)\n",
    "    do_four(print_twice,middle,side)\n",
    "    print_twice(top,corner)\n",
    "drawGrid2()"
   ]
  },
  {
   "cell_type": "code",
   "execution_count": null,
   "metadata": {
    "collapsed": true
   },
   "outputs": [],
   "source": []
  }
 ],
 "metadata": {
  "kernelspec": {
   "display_name": "Python 2",
   "language": "python",
   "name": "python2"
  },
  "language_info": {
   "codemirror_mode": {
    "name": "ipython",
    "version": 2
   },
   "file_extension": ".py",
   "mimetype": "text/x-python",
   "name": "python",
   "nbconvert_exporter": "python",
   "pygments_lexer": "ipython2",
   "version": "2.7.10"
  }
 },
 "nbformat": 4,
 "nbformat_minor": 0
}
